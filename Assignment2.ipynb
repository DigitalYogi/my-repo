{
  "nbformat": 4,
  "nbformat_minor": 0,
  "metadata": {
    "colab": {
      "name": "Assignment2.ipynb",
      "provenance": [],
      "collapsed_sections": [],
      "mount_file_id": "1U_FqGvZsQBlRla2FUsjcATWWK6pb9SVD",
      "authorship_tag": "ABX9TyNrrY1rJ+6vy2byshO6MawV",
      "include_colab_link": true
    },
    "kernelspec": {
      "name": "python3",
      "display_name": "Python 3"
    },
    "language_info": {
      "name": "python"
    }
  },
  "cells": [
    {
      "cell_type": "markdown",
      "metadata": {
        "id": "view-in-github",
        "colab_type": "text"
      },
      "source": [
        "<a href=\"https://colab.research.google.com/github/DigitalYogi/my-repo/blob/main/Assignment2.ipynb\" target=\"_parent\"><img src=\"https://colab.research.google.com/assets/colab-badge.svg\" alt=\"Open In Colab\"/></a>"
      ]
    },
    {
      "cell_type": "code",
      "metadata": {
        "id": "njKQVpybDvt2"
      },
      "source": [
        "import pandas as pd"
      ],
      "execution_count": 1,
      "outputs": []
    },
    {
      "cell_type": "code",
      "metadata": {
        "colab": {
          "base_uri": "https://localhost:8080/"
        },
        "id": "6xiNs3TMzWGh",
        "outputId": "c0e68f1d-c506-479a-fb7f-76b3016e456b"
      },
      "source": [
        "# Get raw file from website\n",
        "path = \"/content/drive/MyDrive/workshop/iris.csv\"\n",
        "# Read the file data\n",
        "df = pd.read_csv(path)\n",
        "# Display the data\n",
        "print(df)"
      ],
      "execution_count": 2,
      "outputs": [
        {
          "output_type": "stream",
          "text": [
            "     sepal.length  sepal.width  petal.length  petal.width    variety\n",
            "0             5.1          3.5           1.4          0.2     Setosa\n",
            "1             4.9          3.0           1.4          0.2     Setosa\n",
            "2             4.7          3.2           1.3          0.2     Setosa\n",
            "3             4.6          3.1           1.5          0.2     Setosa\n",
            "4             5.0          3.6           1.4          0.2     Setosa\n",
            "..            ...          ...           ...          ...        ...\n",
            "145           6.7          3.0           5.2          2.3  Virginica\n",
            "146           6.3          2.5           5.0          1.9  Virginica\n",
            "147           6.5          3.0           5.2          2.0  Virginica\n",
            "148           6.2          3.4           5.4          2.3  Virginica\n",
            "149           5.9          3.0           5.1          1.8  Virginica\n",
            "\n",
            "[150 rows x 5 columns]\n"
          ],
          "name": "stdout"
        }
      ]
    },
    {
      "cell_type": "code",
      "metadata": {
        "colab": {
          "base_uri": "https://localhost:8080/",
          "height": 204
        },
        "id": "9oazq0Td8nyM",
        "outputId": "cbb235dc-a416-4cd8-caa9-bbd9a70e3527"
      },
      "source": [
        "# Show the first 5 rows\n",
        "df.head()"
      ],
      "execution_count": 3,
      "outputs": [
        {
          "output_type": "execute_result",
          "data": {
            "text/html": [
              "<div>\n",
              "<style scoped>\n",
              "    .dataframe tbody tr th:only-of-type {\n",
              "        vertical-align: middle;\n",
              "    }\n",
              "\n",
              "    .dataframe tbody tr th {\n",
              "        vertical-align: top;\n",
              "    }\n",
              "\n",
              "    .dataframe thead th {\n",
              "        text-align: right;\n",
              "    }\n",
              "</style>\n",
              "<table border=\"1\" class=\"dataframe\">\n",
              "  <thead>\n",
              "    <tr style=\"text-align: right;\">\n",
              "      <th></th>\n",
              "      <th>sepal.length</th>\n",
              "      <th>sepal.width</th>\n",
              "      <th>petal.length</th>\n",
              "      <th>petal.width</th>\n",
              "      <th>variety</th>\n",
              "    </tr>\n",
              "  </thead>\n",
              "  <tbody>\n",
              "    <tr>\n",
              "      <th>0</th>\n",
              "      <td>5.1</td>\n",
              "      <td>3.5</td>\n",
              "      <td>1.4</td>\n",
              "      <td>0.2</td>\n",
              "      <td>Setosa</td>\n",
              "    </tr>\n",
              "    <tr>\n",
              "      <th>1</th>\n",
              "      <td>4.9</td>\n",
              "      <td>3.0</td>\n",
              "      <td>1.4</td>\n",
              "      <td>0.2</td>\n",
              "      <td>Setosa</td>\n",
              "    </tr>\n",
              "    <tr>\n",
              "      <th>2</th>\n",
              "      <td>4.7</td>\n",
              "      <td>3.2</td>\n",
              "      <td>1.3</td>\n",
              "      <td>0.2</td>\n",
              "      <td>Setosa</td>\n",
              "    </tr>\n",
              "    <tr>\n",
              "      <th>3</th>\n",
              "      <td>4.6</td>\n",
              "      <td>3.1</td>\n",
              "      <td>1.5</td>\n",
              "      <td>0.2</td>\n",
              "      <td>Setosa</td>\n",
              "    </tr>\n",
              "    <tr>\n",
              "      <th>4</th>\n",
              "      <td>5.0</td>\n",
              "      <td>3.6</td>\n",
              "      <td>1.4</td>\n",
              "      <td>0.2</td>\n",
              "      <td>Setosa</td>\n",
              "    </tr>\n",
              "  </tbody>\n",
              "</table>\n",
              "</div>"
            ],
            "text/plain": [
              "   sepal.length  sepal.width  petal.length  petal.width variety\n",
              "0           5.1          3.5           1.4          0.2  Setosa\n",
              "1           4.9          3.0           1.4          0.2  Setosa\n",
              "2           4.7          3.2           1.3          0.2  Setosa\n",
              "3           4.6          3.1           1.5          0.2  Setosa\n",
              "4           5.0          3.6           1.4          0.2  Setosa"
            ]
          },
          "metadata": {},
          "execution_count": 3
        }
      ]
    },
    {
      "cell_type": "code",
      "metadata": {
        "colab": {
          "base_uri": "https://localhost:8080/"
        },
        "id": "cE-bjj1j8yzg",
        "outputId": "9e376008-40ce-4dc6-ebce-4f55b8624eb4"
      },
      "source": [
        "# Show a statistical summary\n",
        "print(df.describe())"
      ],
      "execution_count": 6,
      "outputs": [
        {
          "output_type": "stream",
          "text": [
            "       sepal.length  sepal.width  petal.length  petal.width\n",
            "count    150.000000   150.000000    150.000000   150.000000\n",
            "mean       5.843333     3.057333      3.758000     1.199333\n",
            "std        0.828066     0.435866      1.765298     0.762238\n",
            "min        4.300000     2.000000      1.000000     0.100000\n",
            "25%        5.100000     2.800000      1.600000     0.300000\n",
            "50%        5.800000     3.000000      4.350000     1.300000\n",
            "75%        6.400000     3.300000      5.100000     1.800000\n",
            "max        7.900000     4.400000      6.900000     2.500000\n"
          ],
          "name": "stdout"
        }
      ]
    },
    {
      "cell_type": "code",
      "metadata": {
        "colab": {
          "base_uri": "https://localhost:8080/"
        },
        "id": "zOkI2N_S-bqI",
        "outputId": "1d39a69d-3c52-4d6a-edc1-6275cbf08848"
      },
      "source": [
        "# Print the first three rows of the dataset\n",
        "print(df.head(3))"
      ],
      "execution_count": null,
      "outputs": [
        {
          "output_type": "stream",
          "text": [
            "   sepal.length  sepal.width  petal.length  petal.width variety\n",
            "0           5.1          3.5           1.4          0.2  Setosa\n",
            "1           4.9          3.0           1.4          0.2  Setosa\n",
            "2           4.7          3.2           1.3          0.2  Setosa\n"
          ],
          "name": "stdout"
        }
      ]
    },
    {
      "cell_type": "code",
      "metadata": {
        "colab": {
          "base_uri": "https://localhost:8080/"
        },
        "id": "lreXJRzR-3J5",
        "outputId": "ab9910d8-4010-4a75-cd58-b00076221e4d"
      },
      "source": [
        "# Print number of rows and columns of the dataset\n",
        "print(\"Number of Rows: \", len(df))\n",
        "print(\"Number of Columns: \", len(df.columns))"
      ],
      "execution_count": null,
      "outputs": [
        {
          "output_type": "stream",
          "text": [
            "Number of Rows:  150\n",
            "Number of Columns:  5\n"
          ],
          "name": "stdout"
        }
      ]
    },
    {
      "cell_type": "code",
      "metadata": {
        "colab": {
          "base_uri": "https://localhost:8080/"
        },
        "id": "PY91isrHAlEU",
        "outputId": "ca9d5b7f-7a46-49a9-963f-02af52d3f0b6"
      },
      "source": [
        "# Sort dataset based on petal.width value\n",
        "\n",
        "df.sort_values([\"petal.width\"], axis=0, ascending=[True],  inplace=True)\n",
        "print(df)"
      ],
      "execution_count": 13,
      "outputs": [
        {
          "output_type": "stream",
          "text": [
            "     sepal.length  sepal.width  petal.length  petal.width    variety\n",
            "32            5.2          4.1           1.5          0.1     Setosa\n",
            "13            4.3          3.0           1.1          0.1     Setosa\n",
            "37            4.9          3.6           1.4          0.1     Setosa\n",
            "9             4.9          3.1           1.5          0.1     Setosa\n",
            "12            4.8          3.0           1.4          0.1     Setosa\n",
            "..            ...          ...           ...          ...        ...\n",
            "140           6.7          3.1           5.6          2.4  Virginica\n",
            "114           5.8          2.8           5.1          2.4  Virginica\n",
            "100           6.3          3.3           6.0          2.5  Virginica\n",
            "144           6.7          3.3           5.7          2.5  Virginica\n",
            "109           7.2          3.6           6.1          2.5  Virginica\n",
            "\n",
            "[150 rows x 5 columns]\n"
          ],
          "name": "stdout"
        }
      ]
    },
    {
      "cell_type": "code",
      "metadata": {
        "colab": {
          "base_uri": "https://localhost:8080/"
        },
        "id": "Mf7xEpx3KzLj",
        "outputId": "01bd6427-c2a0-4e36-f6ea-eaa5f3281be2"
      },
      "source": [
        "# Filter the data by this condition: variety = Versicolor\n",
        "\n",
        "df = df.loc[df['variety'] == 'Versicolor']\n",
        "print(df)"
      ],
      "execution_count": 14,
      "outputs": [
        {
          "output_type": "stream",
          "text": [
            "    sepal.length  sepal.width  petal.length  petal.width     variety\n",
            "60           5.0          2.0           3.5          1.0  Versicolor\n",
            "93           5.0          2.3           3.3          1.0  Versicolor\n",
            "62           6.0          2.2           4.0          1.0  Versicolor\n",
            "57           4.9          2.4           3.3          1.0  Versicolor\n",
            "67           5.8          2.7           4.1          1.0  Versicolor\n",
            "79           5.7          2.6           3.5          1.0  Versicolor\n",
            "81           5.5          2.4           3.7          1.0  Versicolor\n",
            "98           5.1          2.5           3.0          1.1  Versicolor\n",
            "80           5.5          2.4           3.8          1.1  Versicolor\n",
            "69           5.6          2.5           3.9          1.1  Versicolor\n",
            "95           5.7          3.0           4.2          1.2  Versicolor\n",
            "92           5.8          2.6           4.0          1.2  Versicolor\n",
            "90           5.5          2.6           4.4          1.2  Versicolor\n",
            "82           5.8          2.7           3.9          1.2  Versicolor\n",
            "73           6.1          2.8           4.7          1.2  Versicolor\n",
            "96           5.7          2.9           4.2          1.3  Versicolor\n",
            "53           5.5          2.3           4.0          1.3  Versicolor\n",
            "64           5.6          2.9           3.6          1.3  Versicolor\n",
            "58           6.6          2.9           4.6          1.3  Versicolor\n",
            "87           6.3          2.3           4.4          1.3  Versicolor\n",
            "55           5.7          2.8           4.5          1.3  Versicolor\n",
            "99           5.7          2.8           4.1          1.3  Versicolor\n",
            "74           6.4          2.9           4.3          1.3  Versicolor\n",
            "71           6.1          2.8           4.0          1.3  Versicolor\n",
            "94           5.6          2.7           4.2          1.3  Versicolor\n",
            "88           5.6          3.0           4.1          1.3  Versicolor\n",
            "97           6.2          2.9           4.3          1.3  Versicolor\n",
            "89           5.5          2.5           4.0          1.3  Versicolor\n",
            "50           7.0          3.2           4.7          1.4  Versicolor\n",
            "59           5.2          2.7           3.9          1.4  Versicolor\n",
            "63           6.1          2.9           4.7          1.4  Versicolor\n",
            "91           6.1          3.0           4.6          1.4  Versicolor\n",
            "76           6.8          2.8           4.8          1.4  Versicolor\n",
            "75           6.6          3.0           4.4          1.4  Versicolor\n",
            "65           6.7          3.1           4.4          1.4  Versicolor\n",
            "54           6.5          2.8           4.6          1.5  Versicolor\n",
            "78           6.0          2.9           4.5          1.5  Versicolor\n",
            "51           6.4          3.2           4.5          1.5  Versicolor\n",
            "52           6.9          3.1           4.9          1.5  Versicolor\n",
            "61           5.9          3.0           4.2          1.5  Versicolor\n",
            "68           6.2          2.2           4.5          1.5  Versicolor\n",
            "66           5.6          3.0           4.5          1.5  Versicolor\n",
            "86           6.7          3.1           4.7          1.5  Versicolor\n",
            "72           6.3          2.5           4.9          1.5  Versicolor\n",
            "84           5.4          3.0           4.5          1.5  Versicolor\n",
            "56           6.3          3.3           4.7          1.6  Versicolor\n",
            "85           6.0          3.4           4.5          1.6  Versicolor\n",
            "83           6.0          2.7           5.1          1.6  Versicolor\n",
            "77           6.7          3.0           5.0          1.7  Versicolor\n",
            "70           5.9          3.2           4.8          1.8  Versicolor\n"
          ],
          "name": "stdout"
        }
      ]
    },
    {
      "cell_type": "code",
      "metadata": {
        "colab": {
          "base_uri": "https://localhost:8080/"
        },
        "id": "I5VlO4FBT78G",
        "outputId": "a6efe4ef-ddb5-4ba5-adfc-e970117cdca3"
      },
      "source": [
        "# Change variety = Setosa to variety = NewValue.  Can use replace() function\n",
        "\n",
        "dfr = df.replace(\"Setosa\", \"NewValue\")\n",
        "print(dfr)"
      ],
      "execution_count": 3,
      "outputs": [
        {
          "output_type": "stream",
          "text": [
            "     sepal.length  sepal.width  petal.length  petal.width    variety\n",
            "0             5.1          3.5           1.4          0.2   NewValue\n",
            "1             4.9          3.0           1.4          0.2   NewValue\n",
            "2             4.7          3.2           1.3          0.2   NewValue\n",
            "3             4.6          3.1           1.5          0.2   NewValue\n",
            "4             5.0          3.6           1.4          0.2   NewValue\n",
            "..            ...          ...           ...          ...        ...\n",
            "145           6.7          3.0           5.2          2.3  Virginica\n",
            "146           6.3          2.5           5.0          1.9  Virginica\n",
            "147           6.5          3.0           5.2          2.0  Virginica\n",
            "148           6.2          3.4           5.4          2.3  Virginica\n",
            "149           5.9          3.0           5.1          1.8  Virginica\n",
            "\n",
            "[150 rows x 5 columns]\n"
          ],
          "name": "stdout"
        }
      ]
    }
  ]
}